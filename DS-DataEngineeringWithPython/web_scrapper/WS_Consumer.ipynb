{
 "cells": [
  {
   "cell_type": "markdown",
   "metadata": {},
   "source": [
    "# Description\n",
    "\n",
    "This is the web scrapper consumer with pandas for the generated csv file from previous python packages \"News WebScrapper\"\n"
   ]
  },
  {
   "cell_type": "code",
   "execution_count": 19,
   "metadata": {},
   "outputs": [
    {
     "output_type": "execute_result",
     "data": {
      "text/plain": "                                                  body  \\\n0    Con clases presenciales y en lnea, as ser el s...   \n1    Entre el rey Midas y Minsky: el poder divino d...   \n2    Minuto a Minuto: Marcha en CdMx por feminicidi...   \n3                            Bukowski: terror y exceso   \n4    Cmo quitar el \"escribiendo\" en WhatsApp? Sigue...   \n..                                                 ...   \n168  Aslan a joven en examen de Comipems: tuvo cont...   \n169  Fila por fila As ser la nueva forma de abordar...   \n170                                    Apestados rusos   \n171  Cmo es la vacuna de Oxford y AstraZeneca que l...   \n172   Qu significa el semforo amarillo de coronavirus?   \n\n                                                 title  \\\n0    \\r\\nCon clases presenciales y en lnea, as ser ...   \n1    \\r\\nEntre el rey Midas y Minsky: el poder divi...   \n2    \\r\\nMinuto a Minuto: Marcha en CdMx por femini...   \n3    \\r\\nBukowski: terror y exceso\\r\\nLiteratura\\r\\...   \n4    \\r\\nCmo quitar el \"escribiendo\" en WhatsApp? S...   \n..                                                 ...   \n168  \\r\\nAslan a joven en examen de Comipems: tuvo ...   \n169  \\r\\nFila por fila As ser la nueva forma de abo...   \n170  \\r\\nApestados rusos\\r\\nToscanadas\\r\\n\\r\\nPushk...   \n171  \\r\\nCmo es la vacuna de Oxford y AstraZeneca q...   \n172  \\r\\nQu significa el semforo amarillo de corona...   \n\n                                                   url  \n0    https://www.milenio.com/politica/comunidad/una...  \n1    https://www.milenio.com/nexos/rey-midas-minsky...  \n2    https://www.milenio.com/politica/comunidad/mar...  \n3    https://www.milenio.com/cultura/laberinto/char...  \n4    https://www.milenio.com/tecnologia/whatsapp-pu...  \n..                                                 ...  \n168  https://www.milenio.com/politica/comunidad/com...  \n169  https://www.milenio.com/negocios/coronavirus-a...  \n170  https://www.milenio.com/cultura/laberinto/apes...  \n171  https://www.chicmagazine.com.mx/estilo-de-vida...  \n172  https://www.milenio.com/estados/semaforo-coron...  \n\n[173 rows x 3 columns]",
      "text/html": "<div>\n<style scoped>\n    .dataframe tbody tr th:only-of-type {\n        vertical-align: middle;\n    }\n\n    .dataframe tbody tr th {\n        vertical-align: top;\n    }\n\n    .dataframe thead th {\n        text-align: right;\n    }\n</style>\n<table border=\"1\" class=\"dataframe\">\n  <thead>\n    <tr style=\"text-align: right;\">\n      <th></th>\n      <th>body</th>\n      <th>title</th>\n      <th>url</th>\n    </tr>\n  </thead>\n  <tbody>\n    <tr>\n      <th>0</th>\n      <td>Con clases presenciales y en lnea, as ser el s...</td>\n      <td>\\r\\nCon clases presenciales y en lnea, as ser ...</td>\n      <td>https://www.milenio.com/politica/comunidad/una...</td>\n    </tr>\n    <tr>\n      <th>1</th>\n      <td>Entre el rey Midas y Minsky: el poder divino d...</td>\n      <td>\\r\\nEntre el rey Midas y Minsky: el poder divi...</td>\n      <td>https://www.milenio.com/nexos/rey-midas-minsky...</td>\n    </tr>\n    <tr>\n      <th>2</th>\n      <td>Minuto a Minuto: Marcha en CdMx por feminicidi...</td>\n      <td>\\r\\nMinuto a Minuto: Marcha en CdMx por femini...</td>\n      <td>https://www.milenio.com/politica/comunidad/mar...</td>\n    </tr>\n    <tr>\n      <th>3</th>\n      <td>Bukowski: terror y exceso</td>\n      <td>\\r\\nBukowski: terror y exceso\\r\\nLiteratura\\r\\...</td>\n      <td>https://www.milenio.com/cultura/laberinto/char...</td>\n    </tr>\n    <tr>\n      <th>4</th>\n      <td>Cmo quitar el \"escribiendo\" en WhatsApp? Sigue...</td>\n      <td>\\r\\nCmo quitar el \"escribiendo\" en WhatsApp? S...</td>\n      <td>https://www.milenio.com/tecnologia/whatsapp-pu...</td>\n    </tr>\n    <tr>\n      <th>...</th>\n      <td>...</td>\n      <td>...</td>\n      <td>...</td>\n    </tr>\n    <tr>\n      <th>168</th>\n      <td>Aslan a joven en examen de Comipems: tuvo cont...</td>\n      <td>\\r\\nAslan a joven en examen de Comipems: tuvo ...</td>\n      <td>https://www.milenio.com/politica/comunidad/com...</td>\n    </tr>\n    <tr>\n      <th>169</th>\n      <td>Fila por fila As ser la nueva forma de abordar...</td>\n      <td>\\r\\nFila por fila As ser la nueva forma de abo...</td>\n      <td>https://www.milenio.com/negocios/coronavirus-a...</td>\n    </tr>\n    <tr>\n      <th>170</th>\n      <td>Apestados rusos</td>\n      <td>\\r\\nApestados rusos\\r\\nToscanadas\\r\\n\\r\\nPushk...</td>\n      <td>https://www.milenio.com/cultura/laberinto/apes...</td>\n    </tr>\n    <tr>\n      <th>171</th>\n      <td>Cmo es la vacuna de Oxford y AstraZeneca que l...</td>\n      <td>\\r\\nCmo es la vacuna de Oxford y AstraZeneca q...</td>\n      <td>https://www.chicmagazine.com.mx/estilo-de-vida...</td>\n    </tr>\n    <tr>\n      <th>172</th>\n      <td>Qu significa el semforo amarillo de coronavirus?</td>\n      <td>\\r\\nQu significa el semforo amarillo de corona...</td>\n      <td>https://www.milenio.com/estados/semaforo-coron...</td>\n    </tr>\n  </tbody>\n</table>\n<p>173 rows × 3 columns</p>\n</div>"
     },
     "metadata": {},
     "execution_count": 19
    }
   ],
   "source": [
    "import pandas as pd\n",
    "pd.options.display.max_rows = 20\n",
    "df = pd.read_csv('elpais_2020_08_05_articles.csv')\n",
    "df = pd.read_csv('milenio_2020_08_16_articles.csv')\n",
    "df.head()\n",
    "df.tail()\n",
    "df"
   ]
  },
  {
   "cell_type": "code",
   "execution_count": 20,
   "metadata": {},
   "outputs": [
    {
     "output_type": "execute_result",
     "data": {
      "text/plain": "0      \\r\\nCon clases presenciales y en lnea, as ser ...\n1      \\r\\nEntre el rey Midas y Minsky: el poder divi...\n2      \\r\\nMinuto a Minuto: Marcha en CdMx por femini...\n3      \\r\\nBukowski: terror y exceso\\r\\nLiteratura\\r\\...\n4      \\r\\nCmo quitar el \"escribiendo\" en WhatsApp? S...\n                             ...                        \n168    \\r\\nAslan a joven en examen de Comipems: tuvo ...\n169    \\r\\nFila por fila As ser la nueva forma de abo...\n170    \\r\\nApestados rusos\\r\\nToscanadas\\r\\n\\r\\nPushk...\n171    \\r\\nCmo es la vacuna de Oxford y AstraZeneca q...\n172    \\r\\nQu significa el semforo amarillo de corona...\nName: title, Length: 173, dtype: object"
     },
     "metadata": {},
     "execution_count": 20
    }
   ],
   "source": [
    "df['title']\n",
    "df.title"
   ]
  },
  {
   "cell_type": "code",
   "execution_count": 7,
   "metadata": {},
   "outputs": [
    {
     "output_type": "execute_result",
     "data": {
      "text/plain": "                                                title  \\\n0                    Ascensin y cada de Juan Carlos I   \n1                   Gabo, la biblioteca de un viajero   \n2   Matemticas para que los robots nos ayuden a ve...   \n3   Bandas elsticas, la herramienta que todo runne...   \n4   Al menos un centenar de muertos y 4.000 herido...   \n..                                                ...   \n58            El Chavo del Ocho se queda sin vecindad   \n59      Es el momento de reconectar con la naturaleza   \n60                 Artur Mas esquiva (otra vez) el 3%   \n61  ltimas noticias del coronavirus, en directo | ...   \n62                                 Nace EL PAS Mxico    \n\n                                                  url  \n0   https://elpais.com/espana/2020-08-03/ascension...  \n1   https://elpais.com/revista-de-verano/2020-08-0...  \n2   https://elpais.com/ciencia/2020-08-04/matemati...  \n3   https://elpais.com/buenavida/ejercicio-fisico/...  \n4   https://elpais.com/internacional/2020-08-04/un...  \n..                                                ...  \n58  https://elpais.com/mexico/2020-08-04/el-chavo-...  \n59  https://elpais.com/ideas/2020-08-01/es-el-mome...  \n60  https://elpais.com/espana/catalunya/2020-08-04...  \n61  https://elpais.com/sociedad/2020-08-05/ultimas...  \n62  https://elpais.com/sociedad/2020-07-01/nace-el...  \n\n[63 rows x 2 columns]",
      "text/html": "<div>\n<style scoped>\n    .dataframe tbody tr th:only-of-type {\n        vertical-align: middle;\n    }\n\n    .dataframe tbody tr th {\n        vertical-align: top;\n    }\n\n    .dataframe thead th {\n        text-align: right;\n    }\n</style>\n<table border=\"1\" class=\"dataframe\">\n  <thead>\n    <tr style=\"text-align: right;\">\n      <th></th>\n      <th>title</th>\n      <th>url</th>\n    </tr>\n  </thead>\n  <tbody>\n    <tr>\n      <th>0</th>\n      <td>Ascensin y cada de Juan Carlos I</td>\n      <td>https://elpais.com/espana/2020-08-03/ascension...</td>\n    </tr>\n    <tr>\n      <th>1</th>\n      <td>Gabo, la biblioteca de un viajero</td>\n      <td>https://elpais.com/revista-de-verano/2020-08-0...</td>\n    </tr>\n    <tr>\n      <th>2</th>\n      <td>Matemticas para que los robots nos ayuden a ve...</td>\n      <td>https://elpais.com/ciencia/2020-08-04/matemati...</td>\n    </tr>\n    <tr>\n      <th>3</th>\n      <td>Bandas elsticas, la herramienta que todo runne...</td>\n      <td>https://elpais.com/buenavida/ejercicio-fisico/...</td>\n    </tr>\n    <tr>\n      <th>4</th>\n      <td>Al menos un centenar de muertos y 4.000 herido...</td>\n      <td>https://elpais.com/internacional/2020-08-04/un...</td>\n    </tr>\n    <tr>\n      <th>...</th>\n      <td>...</td>\n      <td>...</td>\n    </tr>\n    <tr>\n      <th>58</th>\n      <td>El Chavo del Ocho se queda sin vecindad</td>\n      <td>https://elpais.com/mexico/2020-08-04/el-chavo-...</td>\n    </tr>\n    <tr>\n      <th>59</th>\n      <td>Es el momento de reconectar con la naturaleza</td>\n      <td>https://elpais.com/ideas/2020-08-01/es-el-mome...</td>\n    </tr>\n    <tr>\n      <th>60</th>\n      <td>Artur Mas esquiva (otra vez) el 3%</td>\n      <td>https://elpais.com/espana/catalunya/2020-08-04...</td>\n    </tr>\n    <tr>\n      <th>61</th>\n      <td>ltimas noticias del coronavirus, en directo | ...</td>\n      <td>https://elpais.com/sociedad/2020-08-05/ultimas...</td>\n    </tr>\n    <tr>\n      <th>62</th>\n      <td>Nace EL PAS Mxico</td>\n      <td>https://elpais.com/sociedad/2020-07-01/nace-el...</td>\n    </tr>\n  </tbody>\n</table>\n<p>63 rows × 2 columns</p>\n</div>"
     },
     "metadata": {},
     "execution_count": 7
    }
   ],
   "source": [
    "df[['title','url']]"
   ]
  },
  {
   "cell_type": "code",
   "execution_count": 21,
   "metadata": {},
   "outputs": [
    {
     "output_type": "execute_result",
     "data": {
      "text/plain": "                                                body  \\\n1  Entre el rey Midas y Minsky: el poder divino d...   \n2  Minuto a Minuto: Marcha en CdMx por feminicidi...   \n3                          Bukowski: terror y exceso   \n\n                                               title  \\\n1  \\r\\nEntre el rey Midas y Minsky: el poder divi...   \n2  \\r\\nMinuto a Minuto: Marcha en CdMx por femini...   \n3  \\r\\nBukowski: terror y exceso\\r\\nLiteratura\\r\\...   \n\n                                                 url  \n1  https://www.milenio.com/nexos/rey-midas-minsky...  \n2  https://www.milenio.com/politica/comunidad/mar...  \n3  https://www.milenio.com/cultura/laberinto/char...  ",
      "text/html": "<div>\n<style scoped>\n    .dataframe tbody tr th:only-of-type {\n        vertical-align: middle;\n    }\n\n    .dataframe tbody tr th {\n        vertical-align: top;\n    }\n\n    .dataframe thead th {\n        text-align: right;\n    }\n</style>\n<table border=\"1\" class=\"dataframe\">\n  <thead>\n    <tr style=\"text-align: right;\">\n      <th></th>\n      <th>body</th>\n      <th>title</th>\n      <th>url</th>\n    </tr>\n  </thead>\n  <tbody>\n    <tr>\n      <th>1</th>\n      <td>Entre el rey Midas y Minsky: el poder divino d...</td>\n      <td>\\r\\nEntre el rey Midas y Minsky: el poder divi...</td>\n      <td>https://www.milenio.com/nexos/rey-midas-minsky...</td>\n    </tr>\n    <tr>\n      <th>2</th>\n      <td>Minuto a Minuto: Marcha en CdMx por feminicidi...</td>\n      <td>\\r\\nMinuto a Minuto: Marcha en CdMx por femini...</td>\n      <td>https://www.milenio.com/politica/comunidad/mar...</td>\n    </tr>\n    <tr>\n      <th>3</th>\n      <td>Bukowski: terror y exceso</td>\n      <td>\\r\\nBukowski: terror y exceso\\r\\nLiteratura\\r\\...</td>\n      <td>https://www.milenio.com/cultura/laberinto/char...</td>\n    </tr>\n  </tbody>\n</table>\n</div>"
     },
     "metadata": {},
     "execution_count": 21
    }
   ],
   "source": [
    "df.iloc[1:4]"
   ]
  },
  {
   "cell_type": "code",
   "execution_count": 22,
   "metadata": {},
   "outputs": [
    {
     "output_type": "execute_result",
     "data": {
      "text/plain": "                                                body  \\\n1  Entre el rey Midas y Minsky: el poder divino d...   \n2  Minuto a Minuto: Marcha en CdMx por feminicidi...   \n3                          Bukowski: terror y exceso   \n4  Cmo quitar el \"escribiendo\" en WhatsApp? Sigue...   \n\n                                               title  \\\n1  \\r\\nEntre el rey Midas y Minsky: el poder divi...   \n2  \\r\\nMinuto a Minuto: Marcha en CdMx por femini...   \n3  \\r\\nBukowski: terror y exceso\\r\\nLiteratura\\r\\...   \n4  \\r\\nCmo quitar el \"escribiendo\" en WhatsApp? S...   \n\n                                                 url  \n1  https://www.milenio.com/nexos/rey-midas-minsky...  \n2  https://www.milenio.com/politica/comunidad/mar...  \n3  https://www.milenio.com/cultura/laberinto/char...  \n4  https://www.milenio.com/tecnologia/whatsapp-pu...  ",
      "text/html": "<div>\n<style scoped>\n    .dataframe tbody tr th:only-of-type {\n        vertical-align: middle;\n    }\n\n    .dataframe tbody tr th {\n        vertical-align: top;\n    }\n\n    .dataframe thead th {\n        text-align: right;\n    }\n</style>\n<table border=\"1\" class=\"dataframe\">\n  <thead>\n    <tr style=\"text-align: right;\">\n      <th></th>\n      <th>body</th>\n      <th>title</th>\n      <th>url</th>\n    </tr>\n  </thead>\n  <tbody>\n    <tr>\n      <th>1</th>\n      <td>Entre el rey Midas y Minsky: el poder divino d...</td>\n      <td>\\r\\nEntre el rey Midas y Minsky: el poder divi...</td>\n      <td>https://www.milenio.com/nexos/rey-midas-minsky...</td>\n    </tr>\n    <tr>\n      <th>2</th>\n      <td>Minuto a Minuto: Marcha en CdMx por feminicidi...</td>\n      <td>\\r\\nMinuto a Minuto: Marcha en CdMx por femini...</td>\n      <td>https://www.milenio.com/politica/comunidad/mar...</td>\n    </tr>\n    <tr>\n      <th>3</th>\n      <td>Bukowski: terror y exceso</td>\n      <td>\\r\\nBukowski: terror y exceso\\r\\nLiteratura\\r\\...</td>\n      <td>https://www.milenio.com/cultura/laberinto/char...</td>\n    </tr>\n    <tr>\n      <th>4</th>\n      <td>Cmo quitar el \"escribiendo\" en WhatsApp? Sigue...</td>\n      <td>\\r\\nCmo quitar el \"escribiendo\" en WhatsApp? S...</td>\n      <td>https://www.milenio.com/tecnologia/whatsapp-pu...</td>\n    </tr>\n  </tbody>\n</table>\n</div>"
     },
     "metadata": {},
     "execution_count": 22
    }
   ],
   "source": [
    "df.loc[1:4]"
   ]
  },
  {
   "cell_type": "code",
   "execution_count": 23,
   "metadata": {},
   "outputs": [
    {
     "output_type": "execute_result",
     "data": {
      "text/plain": "'\\r\\nEntre el rey Midas y Minsky: el poder divino de crear dinero\\r\\n\\r\\nLos mecanismos por los que el dinero puede ser creado van mucho ms all de la mera capacidad de produccin de la mquina estatal de impresin de billetes.\\r\\n\\r\\n\\r\\n\\r\\nComparte esta noticia\\r\\n\\r\\n\\r\\n\\r\\n'"
     },
     "metadata": {},
     "execution_count": 23
    }
   ],
   "source": [
    "df.iloc[1]['title']"
   ]
  },
  {
   "cell_type": "code",
   "execution_count": 24,
   "metadata": {},
   "outputs": [
    {
     "output_type": "execute_result",
     "data": {
      "text/plain": "0      \\r\\nCon clases presenciales y en lnea, as ser ...\n1      \\r\\nEntre el rey Midas y Minsky: el poder divi...\n2      \\r\\nMinuto a Minuto: Marcha en CdMx por femini...\n3      \\r\\nBukowski: terror y exceso\\r\\nLiteratura\\r\\...\n4      \\r\\nCmo quitar el \"escribiendo\" en WhatsApp? S...\n                             ...                        \n168    \\r\\nAslan a joven en examen de Comipems: tuvo ...\n169    \\r\\nFila por fila As ser la nueva forma de abo...\n170    \\r\\nApestados rusos\\r\\nToscanadas\\r\\n\\r\\nPushk...\n171    \\r\\nCmo es la vacuna de Oxford y AstraZeneca q...\n172    \\r\\nQu significa el semforo amarillo de corona...\nName: title, Length: 173, dtype: object"
     },
     "metadata": {},
     "execution_count": 24
    }
   ],
   "source": [
    "df.loc[:,'title']"
   ]
  },
  {
   "cell_type": "markdown",
   "metadata": {},
   "source": [
    "# Data Wranglling\n"
   ]
  },
  {
   "cell_type": "code",
   "execution_count": 25,
   "metadata": {},
   "outputs": [
    {
     "output_type": "execute_result",
     "data": {
      "text/plain": "                                                  body  \\\n0    Con clases presenciales y en lnea, as ser el s...   \n1    Entre el rey Midas y Minsky: el poder divino d...   \n2    Minuto a Minuto: Marcha en CdMx por feminicidi...   \n3                            Bukowski: terror y exceso   \n4    Cmo quitar el \"escribiendo\" en WhatsApp? Sigue...   \n..                                                 ...   \n168  Aslan a joven en examen de Comipems: tuvo cont...   \n169  Fila por fila As ser la nueva forma de abordar...   \n170                                    Apestados rusos   \n171  Cmo es la vacuna de Oxford y AstraZeneca que l...   \n172   Qu significa el semforo amarillo de coronavirus?   \n\n                                                 title  \\\n0    \\r\\nCon clases presenciales y en lnea, as ser ...   \n1    \\r\\nEntre el rey Midas y Minsky: el poder divi...   \n2    \\r\\nMinuto a Minuto: Marcha en CdMx por femini...   \n3    \\r\\nBukowski: terror y exceso\\r\\nLiteratura\\r\\...   \n4    \\r\\nCmo quitar el \"escribiendo\" en WhatsApp? S...   \n..                                                 ...   \n168  \\r\\nAslan a joven en examen de Comipems: tuvo ...   \n169  \\r\\nFila por fila As ser la nueva forma de abo...   \n170  \\r\\nApestados rusos\\r\\nToscanadas\\r\\n\\r\\nPushk...   \n171  \\r\\nCmo es la vacuna de Oxford y AstraZeneca q...   \n172  \\r\\nQu significa el semforo amarillo de corona...   \n\n                                                   url     uid  \n0    https://www.milenio.com/politica/comunidad/una...  elpais  \n1    https://www.milenio.com/nexos/rey-midas-minsky...  elpais  \n2    https://www.milenio.com/politica/comunidad/mar...  elpais  \n3    https://www.milenio.com/cultura/laberinto/char...  elpais  \n4    https://www.milenio.com/tecnologia/whatsapp-pu...  elpais  \n..                                                 ...     ...  \n168  https://www.milenio.com/politica/comunidad/com...  elpais  \n169  https://www.milenio.com/negocios/coronavirus-a...  elpais  \n170  https://www.milenio.com/cultura/laberinto/apes...  elpais  \n171  https://www.chicmagazine.com.mx/estilo-de-vida...  elpais  \n172  https://www.milenio.com/estados/semaforo-coron...  elpais  \n\n[173 rows x 4 columns]",
      "text/html": "<div>\n<style scoped>\n    .dataframe tbody tr th:only-of-type {\n        vertical-align: middle;\n    }\n\n    .dataframe tbody tr th {\n        vertical-align: top;\n    }\n\n    .dataframe thead th {\n        text-align: right;\n    }\n</style>\n<table border=\"1\" class=\"dataframe\">\n  <thead>\n    <tr style=\"text-align: right;\">\n      <th></th>\n      <th>body</th>\n      <th>title</th>\n      <th>url</th>\n      <th>uid</th>\n    </tr>\n  </thead>\n  <tbody>\n    <tr>\n      <th>0</th>\n      <td>Con clases presenciales y en lnea, as ser el s...</td>\n      <td>\\r\\nCon clases presenciales y en lnea, as ser ...</td>\n      <td>https://www.milenio.com/politica/comunidad/una...</td>\n      <td>elpais</td>\n    </tr>\n    <tr>\n      <th>1</th>\n      <td>Entre el rey Midas y Minsky: el poder divino d...</td>\n      <td>\\r\\nEntre el rey Midas y Minsky: el poder divi...</td>\n      <td>https://www.milenio.com/nexos/rey-midas-minsky...</td>\n      <td>elpais</td>\n    </tr>\n    <tr>\n      <th>2</th>\n      <td>Minuto a Minuto: Marcha en CdMx por feminicidi...</td>\n      <td>\\r\\nMinuto a Minuto: Marcha en CdMx por femini...</td>\n      <td>https://www.milenio.com/politica/comunidad/mar...</td>\n      <td>elpais</td>\n    </tr>\n    <tr>\n      <th>3</th>\n      <td>Bukowski: terror y exceso</td>\n      <td>\\r\\nBukowski: terror y exceso\\r\\nLiteratura\\r\\...</td>\n      <td>https://www.milenio.com/cultura/laberinto/char...</td>\n      <td>elpais</td>\n    </tr>\n    <tr>\n      <th>4</th>\n      <td>Cmo quitar el \"escribiendo\" en WhatsApp? Sigue...</td>\n      <td>\\r\\nCmo quitar el \"escribiendo\" en WhatsApp? S...</td>\n      <td>https://www.milenio.com/tecnologia/whatsapp-pu...</td>\n      <td>elpais</td>\n    </tr>\n    <tr>\n      <th>...</th>\n      <td>...</td>\n      <td>...</td>\n      <td>...</td>\n      <td>...</td>\n    </tr>\n    <tr>\n      <th>168</th>\n      <td>Aslan a joven en examen de Comipems: tuvo cont...</td>\n      <td>\\r\\nAslan a joven en examen de Comipems: tuvo ...</td>\n      <td>https://www.milenio.com/politica/comunidad/com...</td>\n      <td>elpais</td>\n    </tr>\n    <tr>\n      <th>169</th>\n      <td>Fila por fila As ser la nueva forma de abordar...</td>\n      <td>\\r\\nFila por fila As ser la nueva forma de abo...</td>\n      <td>https://www.milenio.com/negocios/coronavirus-a...</td>\n      <td>elpais</td>\n    </tr>\n    <tr>\n      <th>170</th>\n      <td>Apestados rusos</td>\n      <td>\\r\\nApestados rusos\\r\\nToscanadas\\r\\n\\r\\nPushk...</td>\n      <td>https://www.milenio.com/cultura/laberinto/apes...</td>\n      <td>elpais</td>\n    </tr>\n    <tr>\n      <th>171</th>\n      <td>Cmo es la vacuna de Oxford y AstraZeneca que l...</td>\n      <td>\\r\\nCmo es la vacuna de Oxford y AstraZeneca q...</td>\n      <td>https://www.chicmagazine.com.mx/estilo-de-vida...</td>\n      <td>elpais</td>\n    </tr>\n    <tr>\n      <th>172</th>\n      <td>Qu significa el semforo amarillo de coronavirus?</td>\n      <td>\\r\\nQu significa el semforo amarillo de corona...</td>\n      <td>https://www.milenio.com/estados/semaforo-coron...</td>\n      <td>elpais</td>\n    </tr>\n  </tbody>\n</table>\n<p>173 rows × 4 columns</p>\n</div>"
     },
     "metadata": {},
     "execution_count": 25
    }
   ],
   "source": [
    "df['uid'] = 'elpais'\n",
    "df"
   ]
  },
  {
   "cell_type": "code",
   "execution_count": 26,
   "metadata": {},
   "outputs": [
    {
     "output_type": "execute_result",
     "data": {
      "text/plain": "0      \\r\\nCon clases presenciales y en lnea, as ser ...\n1      \\r\\nEntre el rey Midas y Minsky: el poder divi...\n2      \\r\\nMinuto a Minuto: Marcha en CdMx por femini...\n3      \\r\\nBukowski: terror y exceso\\r\\nLiteratura\\r\\...\n4      \\r\\nCmo quitar el \"escribiendo\" en WhatsApp? S...\n                             ...                        \n168    \\r\\nAslan a joven en examen de Comipems: tuvo ...\n169    \\r\\nFila por fila As ser la nueva forma de abo...\n170    \\r\\nApestados rusos\\r\\nToscanadas\\r\\n\\r\\nPushk...\n171    \\r\\nCmo es la vacuna de Oxford y AstraZeneca q...\n172    \\r\\nQu significa el semforo amarillo de corona...\nName: title, Length: 173, dtype: object"
     },
     "metadata": {},
     "execution_count": 26
    }
   ],
   "source": [
    "# get host\n",
    "from urllib.parse import urlparse\n",
    "\n",
    "df['host'] = df['url'].apply(lambda url: urlparse(url).netloc)\n",
    "df['title']\n"
   ]
  },
  {
   "cell_type": "code",
   "execution_count": 27,
   "metadata": {},
   "outputs": [
    {
     "output_type": "execute_result",
     "data": {
      "text/plain": "www.milenio.com            153\nwww.revistafama.com          5\nwww.septimaentrada.com       5\nwww.chicmagazine.com.mx      5\nwww.mediotiempo.com          5\nName: host, dtype: int64"
     },
     "metadata": {},
     "execution_count": 27
    }
   ],
   "source": [
    "df['host'].value_counts()"
   ]
  },
  {
   "cell_type": "code",
   "execution_count": 28,
   "metadata": {},
   "outputs": [
    {
     "output_type": "execute_result",
     "data": {
      "text/plain": "\\r\\n\\r\\n[FOTOS] As qued la 'nueva' casa de los Blue Jays\\r\\n\\r\\nEste es el estadio Triple A en Buffalo donde jugar la novena de Toronto a partir de este martes 11 de agosto\\r\\n\\r\\n\\r\\n\\r\\n\\r\\n\\r\\n\\r\\n\\r\\n\\r\\n\\r\\n\\r\\n\\r\\nAs qued la 'nueva' casa de los Blue Jays\\r\\n\\r\\n\\r\\n\\r\\nAs qued la 'nueva' casa de los Blue Jays\\r\\n\\r\\n\\r\\n\\r\\nAs qued la 'nueva' casa de los Blue Jays\\r\\n\\r\\n\\r\\n\\r\\nAs qued la 'nueva' casa de los Blue Jays\\r\\n\\r\\n\\r\\n\\r\\nAs qued la 'nueva' casa de los Blue Jays\\r\\n\\r\\n\\r\\n\\r\\nAs qued la 'nueva' casa de los Blue Jays\\r\\n\\r\\n\\r\\n\\r\\nAs qued la 'nueva' casa de los Blue Jays\\r\\n\\r\\n\\r\\n\\r\\nAs qued la 'nueva' casa de los Blue Jays\\r\\n\\r\\n\\r\\n\\r\\n\\r\\n\\r\\n\\r\\n\\r\\n\\r\\n\\r\\n\\r\\n\\r\\n       1\n\\r\\n'Vida Saludable', la nueva materia de la SEP; en qu consiste y para qu sirve?\\r\\n\\r\\nLa SEP anunci la nueva asignatura 'Vida Saludable' que se impartir para el nivel bsico durante el nuevo ciclo escolar 2020-2021. Aqu te contamos por qu es importante y cul ser su utilidad en tiempos de pandemia.\\r\\n\\r\\n\\r\\n\\r\\nComparte esta noticia\\r\\n\\r\\n\\r\\n\\r\\n                                                                                                                                                                                                                                                                                                                                                                  1\n\\r\\n\\r\\n\\r\\n\\r\\n\\r\\n\\r\\n\\r\\n\\r\\n\\r\\n\\r\\n\\r\\n\\r\\n\\r\\n\\r\\n\\r\\n\\r\\n Informe diario por coronavirus en Mxico, 13 de agosto de 2020\\r\\n\\r\\n\\r\\n13-08-2020\\r\\n\\r\\n\\r\\nMilenio Noticias presenta la cobertura en vivo de los sucesos ms sobresalientes en Mxico y ms all de las fronteras.\\r\\n\\r\\n\\r\\n\\r\\n\\r\\nCompartir\\r\\n\\r\\n\\r\\n\\r\\n\\r\\n\\r\\n\\r\\n                                                                                                                                                                                                                                                                                                                                                                                       1\n\\r\\nEmpresas que no inviertan en publicidad pueden perder 11% de ingresos: Nielsen\\r\\nEdicin Fin de Semana\\r\\n\\r\\nDurante abril la inversin en publicidad baj cerca de 40 por ciento, principalmente para categoras como el sector automotriz, cuidado personal y el sector bancario.\\r\\n\\r\\n\\r\\n\\r\\nComparte esta noticia\\r\\n\\r\\n\\r\\n\\r\\n                                                                                                                                                                                                                                                                                                                                                                                         1\n\\r\\nAs queda el calendario escolar 2020-2021; habr vacaciones y 190 das de clase\\r\\n\\r\\nLos estudiantes no tendrn clases tres das durante el ciclo para que el magisterio pueda descargar pendientes administrativos; habr cinco 'puentes' vacacionales.\\r\\n\\r\\n\\r\\n\\r\\nComparte esta noticia\\r\\n\\r\\n\\r\\n\\r\\n                                                                                                                                                                                                                                                                                                                                                                                                                      1\n                                                                                                                                                                                                                                                                                                                                                                                                                                                                                                                                                                                                                                                                                                                                  ..\n\\r\\nApestados rusos\\r\\nToscanadas\\r\\n\\r\\nPushkin, Chjov, Pasternak, Grossman y tantos otros han escrito obras maestras sobre las penas de su patria en medio de una plaga.\\r\\n\\r\\n\\r\\n\\r\\nComparte esta noticia\\r\\n\\r\\n\\r\\n\\r\\n                                                                                                                                                                                                                                                                                                                                                                                                                                                                                                    1\n\\r\\nCoahuila pasa a naranja en el semforo de coronavirus\\r\\n\\r\\nA partir del 17 de agosto, 6 estados estarn en alerta mxima, 25 en color naranja, entre ellos Coahuila, que hasta el momento reporta 16 mil 865 casos positivos.\\r\\n\\r\\n\\r\\n\\r\\nComparte esta noticia\\r\\n\\r\\n\\r\\n\\r\\n                                                                                                                                                                                                                                                                                                                                                                                                                                              1\n\\r\\nLa paz como actividad\\r\\nOpinin | Bichos y parientes\\r\\n\\r\\nLas guerras entre naciones nos parecen cosa del pasado; sin belicosidad, los nacionalismos tienden a convertirse en bravata de cantina.\\r\\n\\r\\n\\r\\n\\r\\nComparte esta noticia\\r\\n\\r\\n\\r\\n\\r\\n                                                                                                                                                                                                                                                                                                                                                                                                                                                                       1\n\\r\\nQu significa el color verde del semforo del covid-19?\\r\\n\\r\\nSea el escenario en el cual se encuentre el pas ante la pandemia del coronavirus, las autoridades establecieron protocolos de prevencin para las personas, evitando as un probable aumento de contagios.\\r\\n\\r\\n\\r\\n\\r\\nComparte esta noticia\\r\\n\\r\\n\\r\\n\\r\\n                                                                                                                                                                                                                                                                                                                                                                                                     1\n\\r\\nSedatu us 3 mil 134 mdp destinados para viviendas pobres: ASF\\r\\n\\r\\nLa ASF denunci ante la Fiscala General de la Repblica (FGR) por un presunto dao patrimonial de 724 millones de pesos, dinero del que no se pudo rastrear su destino final.\\r\\n\\r\\n\\r\\n\\r\\nComparte esta noticia\\r\\n\\r\\n\\r\\n\\r\\n                                                                                                                                                                                                                                                                                                                                                                                                                           1\nName: title, Length: 173, dtype: int64"
     },
     "metadata": {},
     "execution_count": 28
    }
   ],
   "source": [
    "df['title'].value_counts()"
   ]
  },
  {
   "cell_type": "code",
   "execution_count": 29,
   "metadata": {},
   "outputs": [],
   "source": [
    "missing_title = df['title'].isna()"
   ]
  },
  {
   "cell_type": "code",
   "execution_count": 35,
   "metadata": {},
   "outputs": [
    {
     "output_type": "execute_result",
     "data": {
      "text/plain": "Series([], Name: title, dtype: bool)"
     },
     "metadata": {},
     "execution_count": 35
    }
   ],
   "source": [
    "missing_title[missing_title == True]"
   ]
  },
  {
   "cell_type": "markdown",
   "metadata": {},
   "source": [
    "## Cleaning missing information from titles in dataframe"
   ]
  },
  {
   "cell_type": "code",
   "execution_count": 42,
   "metadata": {},
   "outputs": [],
   "source": [
    "missing_titles = (df['url']\n",
    "    .str.extract(r'(?P<missing_titles>[^/]+)$')\n",
    "    .applymap(lambda title: title.split('-'))\n",
    "    .applymap(lambda title_word_list:' '.join(title_word_list))\n",
    ")"
   ]
  },
  {
   "cell_type": "code",
   "execution_count": 43,
   "metadata": {},
   "outputs": [
    {
     "output_type": "execute_result",
     "data": {
      "text/plain": "                                        missing_titles\n0       unam regreso clases 2020 lineamientos semestre\n1                 rey midas minsky divino crear dinero\n2      marichuy marcha cdmx feminicidio estudiante ipn\n3    charles bukowski cien anos cinico peleador esc...\n4     whatsapp puedes quitar escribiendo guia completa\n..                                                 ...\n168  comipems aislan joven contacto panciente covid 19\n169  coronavirus asi sera la nueva forma de abordar...\n170                  apestados rusos por david toscana\n171  vacuna covid 19 de oxford y astrazeneca en mex...\n172     semaforo coronavirus en amarillo que significa\n\n[173 rows x 1 columns]",
      "text/html": "<div>\n<style scoped>\n    .dataframe tbody tr th:only-of-type {\n        vertical-align: middle;\n    }\n\n    .dataframe tbody tr th {\n        vertical-align: top;\n    }\n\n    .dataframe thead th {\n        text-align: right;\n    }\n</style>\n<table border=\"1\" class=\"dataframe\">\n  <thead>\n    <tr style=\"text-align: right;\">\n      <th></th>\n      <th>missing_titles</th>\n    </tr>\n  </thead>\n  <tbody>\n    <tr>\n      <th>0</th>\n      <td>unam regreso clases 2020 lineamientos semestre</td>\n    </tr>\n    <tr>\n      <th>1</th>\n      <td>rey midas minsky divino crear dinero</td>\n    </tr>\n    <tr>\n      <th>2</th>\n      <td>marichuy marcha cdmx feminicidio estudiante ipn</td>\n    </tr>\n    <tr>\n      <th>3</th>\n      <td>charles bukowski cien anos cinico peleador esc...</td>\n    </tr>\n    <tr>\n      <th>4</th>\n      <td>whatsapp puedes quitar escribiendo guia completa</td>\n    </tr>\n    <tr>\n      <th>...</th>\n      <td>...</td>\n    </tr>\n    <tr>\n      <th>168</th>\n      <td>comipems aislan joven contacto panciente covid 19</td>\n    </tr>\n    <tr>\n      <th>169</th>\n      <td>coronavirus asi sera la nueva forma de abordar...</td>\n    </tr>\n    <tr>\n      <th>170</th>\n      <td>apestados rusos por david toscana</td>\n    </tr>\n    <tr>\n      <th>171</th>\n      <td>vacuna covid 19 de oxford y astrazeneca en mex...</td>\n    </tr>\n    <tr>\n      <th>172</th>\n      <td>semaforo coronavirus en amarillo que significa</td>\n    </tr>\n  </tbody>\n</table>\n<p>173 rows × 1 columns</p>\n</div>"
     },
     "metadata": {},
     "execution_count": 43
    }
   ],
   "source": [
    "missing_titles"
   ]
  },
  {
   "cell_type": "markdown",
   "metadata": {},
   "source": [
    "# Cleaning additional information"
   ]
  },
  {
   "cell_type": "code",
   "execution_count": 50,
   "metadata": {},
   "outputs": [],
   "source": [
    "## add uid to rows\n",
    "import hashlib\n",
    "uids = (\n",
    "    df.apply(lambda row: hashlib.md5(bytes(row['url'].encode())),axis=1)\n",
    "    .apply(lambda hash_object: hash_object.hexdigest())\n",
    ")\n",
    "df['uid'] = uids\n",
    "df.set_index('uid',inplace=True)"
   ]
  },
  {
   "cell_type": "code",
   "execution_count": 51,
   "metadata": {},
   "outputs": [
    {
     "output_type": "execute_result",
     "data": {
      "text/plain": "                                                                               body  \\\nuid                                                                                   \n8b36107b3803d398da6e7e20b0be05f1  Con clases presenciales y en lnea, as ser el s...   \n45b849df92248deef3921abaa203c905  Entre el rey Midas y Minsky: el poder divino d...   \neaa4783415306dfd2490d28ca36137de  Minuto a Minuto: Marcha en CdMx por feminicidi...   \nc9c2981818afb1a46abb8e70200890f0                          Bukowski: terror y exceso   \ne1bbad5d6997d58521fcf35983917003  Cmo quitar el \"escribiendo\" en WhatsApp? Sigue...   \n...                                                                             ...   \n3beed38b5d9b34e4fe199f1c8c67c8d6  Aslan a joven en examen de Comipems: tuvo cont...   \nacf674d4ad22394a301eedf149e2f8e4  Fila por fila As ser la nueva forma de abordar...   \n432419d14e95779bee537a9bf5c93694                                    Apestados rusos   \nb96a74d7f67d351a636452c6fbe696dd  Cmo es la vacuna de Oxford y AstraZeneca que l...   \n81aa8b6c259d3d29acc1378ac771926d   Qu significa el semforo amarillo de coronavirus?   \n\n                                                                              title  \\\nuid                                                                                   \n8b36107b3803d398da6e7e20b0be05f1  \\r\\nCon clases presenciales y en lnea, as ser ...   \n45b849df92248deef3921abaa203c905  \\r\\nEntre el rey Midas y Minsky: el poder divi...   \neaa4783415306dfd2490d28ca36137de  \\r\\nMinuto a Minuto: Marcha en CdMx por femini...   \nc9c2981818afb1a46abb8e70200890f0  \\r\\nBukowski: terror y exceso\\r\\nLiteratura\\r\\...   \ne1bbad5d6997d58521fcf35983917003  \\r\\nCmo quitar el \"escribiendo\" en WhatsApp? S...   \n...                                                                             ...   \n3beed38b5d9b34e4fe199f1c8c67c8d6  \\r\\nAslan a joven en examen de Comipems: tuvo ...   \nacf674d4ad22394a301eedf149e2f8e4  \\r\\nFila por fila As ser la nueva forma de abo...   \n432419d14e95779bee537a9bf5c93694  \\r\\nApestados rusos\\r\\nToscanadas\\r\\n\\r\\nPushk...   \nb96a74d7f67d351a636452c6fbe696dd  \\r\\nCmo es la vacuna de Oxford y AstraZeneca q...   \n81aa8b6c259d3d29acc1378ac771926d  \\r\\nQu significa el semforo amarillo de corona...   \n\n                                                                                url  \\\nuid                                                                                   \n8b36107b3803d398da6e7e20b0be05f1  https://www.milenio.com/politica/comunidad/una...   \n45b849df92248deef3921abaa203c905  https://www.milenio.com/nexos/rey-midas-minsky...   \neaa4783415306dfd2490d28ca36137de  https://www.milenio.com/politica/comunidad/mar...   \nc9c2981818afb1a46abb8e70200890f0  https://www.milenio.com/cultura/laberinto/char...   \ne1bbad5d6997d58521fcf35983917003  https://www.milenio.com/tecnologia/whatsapp-pu...   \n...                                                                             ...   \n3beed38b5d9b34e4fe199f1c8c67c8d6  https://www.milenio.com/politica/comunidad/com...   \nacf674d4ad22394a301eedf149e2f8e4  https://www.milenio.com/negocios/coronavirus-a...   \n432419d14e95779bee537a9bf5c93694  https://www.milenio.com/cultura/laberinto/apes...   \nb96a74d7f67d351a636452c6fbe696dd  https://www.chicmagazine.com.mx/estilo-de-vida...   \n81aa8b6c259d3d29acc1378ac771926d  https://www.milenio.com/estados/semaforo-coron...   \n\n                                                     host  \nuid                                                        \n8b36107b3803d398da6e7e20b0be05f1          www.milenio.com  \n45b849df92248deef3921abaa203c905          www.milenio.com  \neaa4783415306dfd2490d28ca36137de          www.milenio.com  \nc9c2981818afb1a46abb8e70200890f0          www.milenio.com  \ne1bbad5d6997d58521fcf35983917003          www.milenio.com  \n...                                                   ...  \n3beed38b5d9b34e4fe199f1c8c67c8d6          www.milenio.com  \nacf674d4ad22394a301eedf149e2f8e4          www.milenio.com  \n432419d14e95779bee537a9bf5c93694          www.milenio.com  \nb96a74d7f67d351a636452c6fbe696dd  www.chicmagazine.com.mx  \n81aa8b6c259d3d29acc1378ac771926d          www.milenio.com  \n\n[173 rows x 4 columns]",
      "text/html": "<div>\n<style scoped>\n    .dataframe tbody tr th:only-of-type {\n        vertical-align: middle;\n    }\n\n    .dataframe tbody tr th {\n        vertical-align: top;\n    }\n\n    .dataframe thead th {\n        text-align: right;\n    }\n</style>\n<table border=\"1\" class=\"dataframe\">\n  <thead>\n    <tr style=\"text-align: right;\">\n      <th></th>\n      <th>body</th>\n      <th>title</th>\n      <th>url</th>\n      <th>host</th>\n    </tr>\n    <tr>\n      <th>uid</th>\n      <th></th>\n      <th></th>\n      <th></th>\n      <th></th>\n    </tr>\n  </thead>\n  <tbody>\n    <tr>\n      <th>8b36107b3803d398da6e7e20b0be05f1</th>\n      <td>Con clases presenciales y en lnea, as ser el s...</td>\n      <td>\\r\\nCon clases presenciales y en lnea, as ser ...</td>\n      <td>https://www.milenio.com/politica/comunidad/una...</td>\n      <td>www.milenio.com</td>\n    </tr>\n    <tr>\n      <th>45b849df92248deef3921abaa203c905</th>\n      <td>Entre el rey Midas y Minsky: el poder divino d...</td>\n      <td>\\r\\nEntre el rey Midas y Minsky: el poder divi...</td>\n      <td>https://www.milenio.com/nexos/rey-midas-minsky...</td>\n      <td>www.milenio.com</td>\n    </tr>\n    <tr>\n      <th>eaa4783415306dfd2490d28ca36137de</th>\n      <td>Minuto a Minuto: Marcha en CdMx por feminicidi...</td>\n      <td>\\r\\nMinuto a Minuto: Marcha en CdMx por femini...</td>\n      <td>https://www.milenio.com/politica/comunidad/mar...</td>\n      <td>www.milenio.com</td>\n    </tr>\n    <tr>\n      <th>c9c2981818afb1a46abb8e70200890f0</th>\n      <td>Bukowski: terror y exceso</td>\n      <td>\\r\\nBukowski: terror y exceso\\r\\nLiteratura\\r\\...</td>\n      <td>https://www.milenio.com/cultura/laberinto/char...</td>\n      <td>www.milenio.com</td>\n    </tr>\n    <tr>\n      <th>e1bbad5d6997d58521fcf35983917003</th>\n      <td>Cmo quitar el \"escribiendo\" en WhatsApp? Sigue...</td>\n      <td>\\r\\nCmo quitar el \"escribiendo\" en WhatsApp? S...</td>\n      <td>https://www.milenio.com/tecnologia/whatsapp-pu...</td>\n      <td>www.milenio.com</td>\n    </tr>\n    <tr>\n      <th>...</th>\n      <td>...</td>\n      <td>...</td>\n      <td>...</td>\n      <td>...</td>\n    </tr>\n    <tr>\n      <th>3beed38b5d9b34e4fe199f1c8c67c8d6</th>\n      <td>Aslan a joven en examen de Comipems: tuvo cont...</td>\n      <td>\\r\\nAslan a joven en examen de Comipems: tuvo ...</td>\n      <td>https://www.milenio.com/politica/comunidad/com...</td>\n      <td>www.milenio.com</td>\n    </tr>\n    <tr>\n      <th>acf674d4ad22394a301eedf149e2f8e4</th>\n      <td>Fila por fila As ser la nueva forma de abordar...</td>\n      <td>\\r\\nFila por fila As ser la nueva forma de abo...</td>\n      <td>https://www.milenio.com/negocios/coronavirus-a...</td>\n      <td>www.milenio.com</td>\n    </tr>\n    <tr>\n      <th>432419d14e95779bee537a9bf5c93694</th>\n      <td>Apestados rusos</td>\n      <td>\\r\\nApestados rusos\\r\\nToscanadas\\r\\n\\r\\nPushk...</td>\n      <td>https://www.milenio.com/cultura/laberinto/apes...</td>\n      <td>www.milenio.com</td>\n    </tr>\n    <tr>\n      <th>b96a74d7f67d351a636452c6fbe696dd</th>\n      <td>Cmo es la vacuna de Oxford y AstraZeneca que l...</td>\n      <td>\\r\\nCmo es la vacuna de Oxford y AstraZeneca q...</td>\n      <td>https://www.chicmagazine.com.mx/estilo-de-vida...</td>\n      <td>www.chicmagazine.com.mx</td>\n    </tr>\n    <tr>\n      <th>81aa8b6c259d3d29acc1378ac771926d</th>\n      <td>Qu significa el semforo amarillo de coronavirus?</td>\n      <td>\\r\\nQu significa el semforo amarillo de corona...</td>\n      <td>https://www.milenio.com/estados/semaforo-coron...</td>\n      <td>www.milenio.com</td>\n    </tr>\n  </tbody>\n</table>\n<p>173 rows × 4 columns</p>\n</div>"
     },
     "metadata": {},
     "execution_count": 51
    }
   ],
   "source": [
    "df"
   ]
  },
  {
   "cell_type": "code",
   "execution_count": 69,
   "metadata": {},
   "outputs": [
    {
     "output_type": "execute_result",
     "data": {
      "text/plain": "uid\n8b36107b3803d398da6e7e20b0be05f1    Con clases presenciales y en lnea, as ser el s...\n45b849df92248deef3921abaa203c905    Entre el rey Midas y Minsky: el poder divino d...\neaa4783415306dfd2490d28ca36137de    Minuto a Minuto: Marcha en CdMx por feminicidi...\nc9c2981818afb1a46abb8e70200890f0                            Bukowski: terror y exceso\ne1bbad5d6997d58521fcf35983917003    Cmo quitar el \"escribiendo\" en WhatsApp? Sigue...\n                                                          ...                        \n3beed38b5d9b34e4fe199f1c8c67c8d6    Aslan a joven en examen de Comipems: tuvo cont...\nacf674d4ad22394a301eedf149e2f8e4    Fila por fila As ser la nueva forma de abordar...\n432419d14e95779bee537a9bf5c93694                                      Apestados rusos\nb96a74d7f67d351a636452c6fbe696dd    Cmo es la vacuna de Oxford y AstraZeneca que l...\n81aa8b6c259d3d29acc1378ac771926d     Qu significa el semforo amarillo de coronavirus?\nLength: 173, dtype: object"
     },
     "metadata": {},
     "execution_count": 69
    }
   ],
   "source": [
    "stripped_body =(df\n",
    "    .apply(lambda row: row['body'],axis=1)\n",
    "    .apply(lambda body: list(body))\n",
    "    .apply(lambda letters: list( map(lambda letter: letter.replace('\\n',''),\n",
    "    letters) ))\n",
    "    .apply(lambda letters: ''.join(letters))\n",
    ")\n",
    "stripped_body\n"
   ]
  },
  {
   "cell_type": "markdown",
   "metadata": {},
   "source": [
    "# Data Enrichment"
   ]
  },
  {
   "cell_type": "code",
   "execution_count": 75,
   "metadata": {
    "tags": []
   },
   "outputs": [
    {
     "output_type": "stream",
     "name": "stderr",
     "text": "[nltk_data] Downloading package punkt to\n[nltk_data]     C:\\Users\\asahi\\AppData\\Roaming\\nltk_data...\n[nltk_data]   Package punkt is already up-to-date!\n[nltk_data] Downloading package stopwords to\n[nltk_data]     C:\\Users\\asahi\\AppData\\Roaming\\nltk_data...\n[nltk_data]   Package stopwords is already up-to-date!\n"
    },
    {
     "output_type": "error",
     "ename": "TypeError",
     "evalue": "tokenize_cols() missing 1 required positional argument: 'col_name'",
     "traceback": [
      "\u001b[1;31m---------------------------------------------------------------------------\u001b[0m",
      "\u001b[1;31mTypeError\u001b[0m                                 Traceback (most recent call last)",
      "\u001b[1;32m<ipython-input-75-ccf44a742913>\u001b[0m in \u001b[0;36m<module>\u001b[1;34m\u001b[0m\n\u001b[0;32m     18\u001b[0m         \u001b[1;33m.\u001b[0m\u001b[0mapply\u001b[0m\u001b[1;33m(\u001b[0m\u001b[1;32mlambda\u001b[0m \u001b[0mvalid_word_list\u001b[0m\u001b[1;33m:\u001b[0m\u001b[0mlen\u001b[0m\u001b[1;33m(\u001b[0m\u001b[0mvalid_word_list\u001b[0m\u001b[1;33m)\u001b[0m\u001b[1;33m)\u001b[0m\u001b[1;33m\u001b[0m\u001b[1;33m\u001b[0m\u001b[0m\n\u001b[0;32m     19\u001b[0m     )\n\u001b[1;32m---> 20\u001b[1;33m \u001b[0mdf\u001b[0m\u001b[1;33m[\u001b[0m\u001b[1;34m'tokens_title'\u001b[0m\u001b[1;33m]\u001b[0m \u001b[1;33m=\u001b[0m \u001b[0mtokenize_cols\u001b[0m\u001b[1;33m(\u001b[0m\u001b[0mdf\u001b[0m\u001b[1;33m)\u001b[0m\u001b[1;33m\u001b[0m\u001b[1;33m\u001b[0m\u001b[0m\n\u001b[0m\u001b[0;32m     21\u001b[0m \u001b[0mdf\u001b[0m\u001b[1;33m\u001b[0m\u001b[1;33m\u001b[0m\u001b[0m\n",
      "\u001b[1;31mTypeError\u001b[0m: tokenize_cols() missing 1 required positional argument: 'col_name'"
     ]
    }
   ],
   "source": [
    "# Tokenize title and body\n",
    "import nltk\n",
    "from nltk.corpus import stopwords\n",
    "# install and download libraries\n",
    "nltk.download('punkt')\n",
    "nltk.download('stopwords')\n",
    "\n",
    "stoo_words = set(stopwords.words('spanish'))\n",
    "\n",
    "def tokenize_cols(df,   col_name):\n",
    "    return (\n",
    "        df\n",
    "        .dropna()\n",
    "        .apply(lambda row: nltk.word_tokenize(row[column_name]),axis=1)\n",
    "        .apply(lambda tokens: list(filter(lambda token: token.isalpha(),tokens)))\n",
    "        .apply(lambda tokens: list(map(lambda token: token.lower(),tokens)))\n",
    "        .apply(lambda word_list: list(filter(lambda word: word not in stop_words,word_list)))\n",
    "        .apply(lambda valid_word_list:len(valid_word_list))\n",
    "    )\n",
    "df['tokens'+ col_name] = tokenize_cols(df)\n",
    "df"
   ]
  },
  {
   "cell_type": "code",
   "execution_count": null,
   "metadata": {},
   "outputs": [],
   "source": [
    "#"
   ]
  }
 ],
 "metadata": {
  "kernelspec": {
   "display_name": "Python 3",
   "language": "python",
   "name": "python3"
  },
  "language_info": {
   "codemirror_mode": {
    "name": "ipython",
    "version": 3
   },
   "file_extension": ".py",
   "mimetype": "text/x-python",
   "name": "python",
   "nbconvert_exporter": "python",
   "pygments_lexer": "ipython3",
   "version": "3.8.5-final"
  }
 },
 "nbformat": 4,
 "nbformat_minor": 4
}